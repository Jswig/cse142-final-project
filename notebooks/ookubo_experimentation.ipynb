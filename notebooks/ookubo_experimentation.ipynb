{
 "cells": [
  {
   "cell_type": "code",
   "execution_count": 1,
   "metadata": {
    "colab": {},
    "colab_type": "code",
    "id": "MDwfmQ5qXwA5"
   },
   "outputs": [],
   "source": [
    "import tensorflow as tf\n",
    "from tensorflow.keras.preprocessing.text import Tokenizer\n",
    "from tensorflow.keras.preprocessing.sequence import pad_sequences\n",
    "from tensorflow.keras.layers import Dropout, Dense, Embedding, LSTM, Bidirectional\n",
    "import pandas as pd\n",
    "from pandas import get_dummies\n",
    "import json\n",
    "import seaborn as sns\n",
    "import matplotlib.pyplot as plt\n",
    "import numpy as np\n",
    "from sklearn.model_selection import train_test_split\n",
    "from sklearn.feature_extraction.text import TfidfVectorizer\n",
    "from sklearn.svm import LinearSVC\n",
    "from sklearn.metrics import classification_report\n",
    "from sklearn.metrics import accuracy_score\n",
    "from sklearn.metrics import confusion_matrix\n",
    "from sklearn.linear_model import LogisticRegression"
   ]
  },
  {
   "cell_type": "code",
   "execution_count": 2,
   "metadata": {
    "colab": {},
    "colab_type": "code",
    "id": "B9ck_IsiX-_a"
   },
   "outputs": [],
   "source": [
    "DATA_LOC = 'data/'\n",
    "FILE_NAME = 'data_train.json'\n",
    "\n",
    "# Load in JSON files and extract from JSON\n",
    "reviews_json = open(DATA_LOC + FILE_NAME, 'r')\n",
    "reviews = json.load(reviews_json)"
   ]
  },
  {
   "cell_type": "code",
   "execution_count": 3,
   "metadata": {
    "colab": {},
    "colab_type": "code",
    "id": "8gkxFimOYxkt"
   },
   "outputs": [],
   "source": [
    "# Analyze the distribution of stars and reviews as seperate lists\n",
    "texts = [review['text'] for review in reviews] # Features\n",
    "stars = [review['stars'] for review in reviews] # Labels"
   ]
  },
  {
   "cell_type": "code",
   "execution_count": 4,
   "metadata": {},
   "outputs": [],
   "source": [
    "# Balance a dataset to remove over-represented samples\n",
    "\n",
    "from collections import Counter\n",
    "def balance_classes(texts, stars):\n",
    "    freqs = Counter(stars)\n",
    "\n",
    "    # the least common class is the maximum number we want for all classes\n",
    "    maxAllowable = freqs.most_common()[-1][1]\n",
    "    numAdded = {clss: 0 for clss in freqs.keys()}\n",
    "    newStars = []\n",
    "    newTexts = []\n",
    "    for i, star in enumerate(stars):\n",
    "        if numAdded[star] < maxAllowable:\n",
    "            newStars.append(star)\n",
    "            newTexts.append(texts[i])\n",
    "            numAdded[star] += 1\n",
    "    return newTexts, newStars"
   ]
  },
  {
   "cell_type": "code",
   "execution_count": 5,
   "metadata": {},
   "outputs": [
    {
     "name": "stdout",
     "output_type": "stream",
     "text": [
      "Distributions before and after dataset balancing\n",
      "Non-Balanced: Counter({5.0: 147645, 4.0: 73604, 1.0: 49031, 3.0: 36987, 2.0: 27028})\n",
      "Balanced: Counter({1.0: 27028, 5.0: 27028, 4.0: 27028, 3.0: 27028, 2.0: 27028})\n"
     ]
    }
   ],
   "source": [
    "balanced_texts, balanced_stars = balance_classes(texts, stars)\n",
    "print(\"Distributions before and after dataset balancing\\nNon-Balanced: {}\\nBalanced: {}\".format(Counter(stars), \n",
    "                                       Counter(balanced_stars)))"
   ]
  },
  {
   "cell_type": "code",
   "execution_count": 6,
   "metadata": {
    "scrolled": false
   },
   "outputs": [
    {
     "data": {
      "image/png": "[encoded data removed]",
      "text/plain": [
       "<Figure size 432x288 with 1 Axes>"
      ]
     },
     "metadata": {
      "needs_background": "light"
     },
     "output_type": "display_data"
    }
   ],
   "source": [
    "# Look at distributions before and after dataset balancing\n",
    "pre_labels, pre_values = zip(*Counter(stars).items())\n",
    "post_labels, post_values = zip(*Counter(balanced_stars).items())\n",
    "pre_indexes = np.arange(len(pre_labels))\n",
    "post_indexes = np.arange(len(post_labels))\n",
    "width = 1\n",
    "\n",
    "plt.bar(pre_indexes, pre_values, width)\n",
    "plt.bar(post_indexes, post_values, width)\n",
    "plt.xticks(pre_indexes + width * 0.5, pre_labels)\n",
    "plt.legend(['Pre-Balance', 'Post-Balance'])\n",
    "\n",
    "plt.show()"
   ]
  },
  {
   "cell_type": "code",
   "execution_count": 7,
   "metadata": {},
   "outputs": [],
   "source": [
    "# Save pre and post balanced datasets as numpy.save()\n",
    "from tempfile import TemporaryFile\n",
    "\n",
    "preBal = TemporaryFile()\n",
    "postBal = TemporaryFile()\n",
    "\n",
    "np.save(preBal, stars)\n",
    "np.save(postBal, balanced_stars)"
   ]
  },
  {
   "cell_type": "code",
   "execution_count": 8,
   "metadata": {},
   "outputs": [],
   "source": [
    "# Split files into training and testing sets\n",
    "vectorizer = TfidfVectorizer(ngram_range=(1,2))\n",
    "vectors = vectorizer.fit_transform(balanced_texts)\n",
    "X_train, X_test, y_train, y_test = train_test_split(vectors, balanced_stars, test_size=0.33, random_state=42)"
   ]
  },
  {
   "cell_type": "code",
   "execution_count": 9,
   "metadata": {},
   "outputs": [],
   "source": [
    "#################### Train and Stack ############################"
   ]
  },
  {
   "cell_type": "code",
   "execution_count": 10,
   "metadata": {},
   "outputs": [],
   "source": [
    "def lstm_model(optimizer = 'adam', loss = 'categorical_crossentropy', metrics = ['accuracy'], num_units = 128, embedding_size = 16):\n",
    "    model = tf.keras.Sequential()\n",
    "    model.add(Embedding(input_dim = 10000, output_dim = embedding_size, input_length = 1050))\n",
    "    model.add(Bidirectional(LSTM(num_units)))\n",
    "    model.add(Dense(1, activation = 'softmax'))\n",
    "    model.compile(optimizer = optimizer, loss = loss, metrics = metrics)\n",
    "    return model"
   ]
  },
  {
   "cell_type": "code",
   "execution_count": 11,
   "metadata": {
    "scrolled": true
   },
   "outputs": [
    {
     "name": "stderr",
     "output_type": "stream",
     "text": [
      "/Users/oasysokubo/opt/miniconda3/envs/py37/lib/python3.7/site-packages/sklearn/externals/six.py:31: DeprecationWarning: The module is deprecated in version 0.21 and will be removed in version 0.23 since we've dropped support for Python 2.7. Please rely on the official version of six (https://pypi.org/project/six/).\n",
      "  \"(https://pypi.org/project/six/).\", DeprecationWarning)\n"
     ]
    }
   ],
   "source": [
    "from mlxtend.classifier import StackingClassifier\n",
    "\n",
    "svm_clf = LinearSVC()\n",
    "lstm_clf = lstm_model()\n",
    "lr = LogisticRegression()\n",
    "sclf = StackingClassifier(classifiers=[svm_clf, lstm_clf],\n",
    "                         meta_classifier=lr)"
   ]
  },
  {
   "cell_type": "code",
   "execution_count": 12,
   "metadata": {
    "scrolled": true
   },
   "outputs": [
    {
     "data": {
      "text/plain": [
       "LinearSVC(C=1.0, class_weight=None, dual=True, fit_intercept=True,\n",
       "          intercept_scaling=1, loss='squared_hinge', max_iter=1000,\n",
       "          multi_class='ovr', penalty='l2', random_state=None, tol=0.0001,\n",
       "          verbose=0)"
      ]
     },
     "execution_count": 12,
     "metadata": {},
     "output_type": "execute_result"
    }
   ],
   "source": [
    "svm_clf.fit(X_train, y_train)\n",
    "# lstm_clf.fit(X_train, y_train)\n",
    "# sclf.fit(X_train, y_train)"
   ]
  },
  {
   "cell_type": "code",
   "execution_count": 13,
   "metadata": {},
   "outputs": [],
   "source": [
    "# Predict the trained and fitted model on the test set\n",
    "predictions = svm_clf.predict(X_test)"
   ]
  },
  {
   "cell_type": "code",
   "execution_count": 14,
   "metadata": {
    "scrolled": true
   },
   "outputs": [
    {
     "name": "stdout",
     "output_type": "stream",
     "text": [
      "0.6079556920869117\n"
     ]
    }
   ],
   "source": [
    "# Model's Accuracy Report of SVM\n",
    "print(accuracy_score(y_test, predictions))"
   ]
  },
  {
   "cell_type": "code",
   "execution_count": 15,
   "metadata": {
    "scrolled": true
   },
   "outputs": [
    {
     "name": "stdout",
     "output_type": "stream",
     "text": [
      "              precision    recall  f1-score   support\n",
      "\n",
      "         1.0       0.70      0.78      0.74      8853\n",
      "         2.0       0.54      0.50      0.52      8892\n",
      "         3.0       0.52      0.48      0.50      8911\n",
      "         4.0       0.55      0.51      0.53      8987\n",
      "         5.0       0.70      0.77      0.73      8954\n",
      "\n",
      "    accuracy                           0.61     44597\n",
      "   macro avg       0.60      0.61      0.60     44597\n",
      "weighted avg       0.60      0.61      0.60     44597\n",
      "\n"
     ]
    }
   ],
   "source": [
    "# Classification Report of SVM\n",
    "\n",
    "\n",
    "print(classification_report(y_test, predictions))"
   ]
  },
  {
   "cell_type": "code",
   "execution_count": 16,
   "metadata": {},
   "outputs": [
    {
     "name": "stdout",
     "output_type": "stream",
     "text": [
      "[[6906 1554  256   45   92]\n",
      " [2183 4461 1796  304  148]\n",
      " [ 533 1874 4279 1806  419]\n",
      " [ 132  331 1677 4588 2259]\n",
      " [ 100   64  248 1663 6879]]\n"
     ]
    }
   ],
   "source": [
    "# Confusion Matrix\n",
    "# Rows: Predictions\n",
    "# Cols: Correct class\n",
    "\n",
    "print(confusion_matrix(y_test, predictions))"
   ]
  }
 ],
 "metadata": {
  "colab": {
   "name": "ookubo-experimentation.ipynb",
   "provenance": []
  },
  "kernelspec": {
   "display_name": "Python 3",
   "language": "python",
   "name": "python3"
  },
  "language_info": {
   "codemirror_mode": {
    "name": "ipython",
    "version": 3
   },
   "file_extension": ".py",
   "mimetype": "text/x-python",
   "name": "python",
   "nbconvert_exporter": "python",
   "pygments_lexer": "ipython3",
   "version": "3.7.5"
  }
 },
 "nbformat": 4,
 "nbformat_minor": 1
}
